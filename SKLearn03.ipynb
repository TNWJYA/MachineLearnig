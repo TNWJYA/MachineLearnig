{
 "cells": [
  {
   "cell_type": "markdown",
   "id": "1ad072a3",
   "metadata": {},
   "source": [
    "# WorkFlow dengan Sckit-Learn"
   ]
  },
  {
   "cell_type": "markdown",
   "id": "ca738ad9",
   "metadata": {},
   "source": [
    "# Data Set"
   ]
  },
  {
   "cell_type": "markdown",
   "id": "3f77c0b2",
   "metadata": {},
   "source": [
    "SAMPEL DATASET DENGAN MENGGUNAKAN IRIS DATASET"
   ]
  },
  {
   "cell_type": "code",
   "execution_count": 3,
   "id": "cd5ea4fe",
   "metadata": {},
   "outputs": [],
   "source": [
    "from sklearn.datasets import load_iris\n",
    "\n",
    "iris=load_iris() \n",
    "\n",
    "X = iris.data\n",
    "y = iris.target"
   ]
  },
  {
   "cell_type": "markdown",
   "id": "4322c480",
   "metadata": {},
   "source": [
    "Spliting Dataset : training & testing set"
   ]
  },
  {
   "cell_type": "code",
   "execution_count": 4,
   "id": "d2d4f8c5",
   "metadata": {},
   "outputs": [],
   "source": [
    "from sklearn.model_selection import train_test_split\n",
    "\n",
    "X_train, X_test, y_train, y_test = train_test_split(X,\n",
    "                                                   y,\n",
    "                                                   test_size=0.4,\n",
    "                                                   random_state=1)"
   ]
  },
  {
   "cell_type": "code",
   "execution_count": null,
   "id": "9beae2f1",
   "metadata": {},
   "outputs": [],
   "source": [
    "Training model"
   ]
  },
  {
   "cell_type": "code",
   "execution_count": 6,
   "id": "990f7f08",
   "metadata": {},
   "outputs": [
    {
     "data": {
      "text/plain": [
       "KNeighborsClassifier(n_neighbors=3)"
      ]
     },
     "execution_count": 6,
     "metadata": {},
     "output_type": "execute_result"
    }
   ],
   "source": [
    "from sklearn.neighbors import KNeighborsClassifier\n",
    "\n",
    "model = KNeighborsClassifier(n_neighbors=3)\n",
    "model.fit(X_train, y_train)"
   ]
  },
  {
   "cell_type": "markdown",
   "id": "6b5f3730",
   "metadata": {},
   "source": [
    "### Evaluasi model"
   ]
  },
  {
   "cell_type": "code",
   "execution_count": 8,
   "id": "3ee37a18",
   "metadata": {},
   "outputs": [
    {
     "name": "stdout",
     "output_type": "stream",
     "text": [
      "accuracy: 0.9833333333333333\n"
     ]
    }
   ],
   "source": [
    "from sklearn.metrics import accuracy_score\n",
    "y_pred = model.predict(X_test)\n",
    "acc = accuracy_score(y_test, y_pred)\n",
    "print(f'accuracy: {acc}')"
   ]
  },
  {
   "cell_type": "markdown",
   "id": "d61fb121",
   "metadata": {},
   "source": [
    "### trend model"
   ]
  },
  {
   "cell_type": "code",
   "execution_count": 9,
   "id": "c2abb0e8",
   "metadata": {},
   "outputs": [
    {
     "data": {
      "text/plain": [
       "array([1, 2])"
      ]
     },
     "execution_count": 9,
     "metadata": {},
     "output_type": "execute_result"
    }
   ],
   "source": [
    "data_baru = [[5,5,3,2],\n",
    "             [2,4,3,5]]\n",
    "\n",
    "preds = model.predict(data_baru)\n",
    "preds"
   ]
  },
  {
   "cell_type": "code",
   "execution_count": 10,
   "id": "aae606a1",
   "metadata": {},
   "outputs": [
    {
     "name": "stdout",
     "output_type": "stream",
     "text": [
      "hasil prediksi: ['versicolor', 'virginica']\n"
     ]
    }
   ],
   "source": [
    "pred_species = [iris.target_names[p] for p in preds]\n",
    "print (f'hasil prediksi: {pred_species}')"
   ]
  },
  {
   "cell_type": "code",
   "execution_count": 11,
   "id": "5472264e",
   "metadata": {},
   "outputs": [
    {
     "data": {
      "text/plain": [
       "['iris_clasifier_knn.joblib']"
      ]
     },
     "execution_count": 11,
     "metadata": {},
     "output_type": "execute_result"
    }
   ],
   "source": [
    "import joblib\n",
    "\n",
    "joblib.dump(model, 'iris_clasifier_knn.joblib')"
   ]
  },
  {
   "cell_type": "code",
   "execution_count": 12,
   "id": "1e97c290",
   "metadata": {},
   "outputs": [],
   "source": [
    "production_model=joblib.load('iris_clasifier_knn.joblib')"
   ]
  },
  {
   "cell_type": "code",
   "execution_count": null,
   "id": "fadbc543",
   "metadata": {},
   "outputs": [],
   "source": []
  }
 ],
 "metadata": {
  "kernelspec": {
   "display_name": "Python 3",
   "language": "python",
   "name": "python3"
  },
  "language_info": {
   "codemirror_mode": {
    "name": "ipython",
    "version": 3
   },
   "file_extension": ".py",
   "mimetype": "text/x-python",
   "name": "python",
   "nbconvert_exporter": "python",
   "pygments_lexer": "ipython3",
   "version": "3.8.8"
  }
 },
 "nbformat": 4,
 "nbformat_minor": 5
}
